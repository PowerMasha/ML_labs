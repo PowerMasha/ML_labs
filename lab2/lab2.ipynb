{
  "nbformat": 4,
  "nbformat_minor": 5,
  "metadata": {
    "kernelspec": {
      "display_name": "Python 3",
      "language": "python",
      "name": "python3"
    },
    "language_info": {
      "codemirror_mode": {
        "name": "ipython",
        "version": 3
      },
      "file_extension": ".py",
      "mimetype": "text/x-python",
      "name": "python",
      "nbconvert_exporter": "python",
      "pygments_lexer": "ipython3",
      "version": "3.8.5"
    },
    "colab": {
      "name": "lab2.ipynb",
      "provenance": [],
      "collapsed_sections": []
    }
  },
  "cells": [
    {
      "cell_type": "markdown",
      "metadata": {
        "id": "028ee51b"
      },
      "source": [
        "# Машинное обучение. Лабораторная работа №2.\n",
        "\n",
        "Выполнила: *Алексеева Мария Алексеевна*\n",
        "Группа: *М8О-308Б-18.*\n",
        "Вариант: 2"
      ],
      "id": "028ee51b"
    },
    {
      "cell_type": "markdown",
      "metadata": {
        "id": "OE0wkyh4xGdd"
      },
      "source": [
        "Подключаем необходимые библиотеки"
      ],
      "id": "OE0wkyh4xGdd"
    },
    {
      "cell_type": "code",
      "metadata": {
        "id": "d026f8d4"
      },
      "source": [
        "import numpy as np\n",
        "import pandas as pd\n",
        "import matplotlib.pyplot as plt\n",
        "from sklearn.model_selection import train_test_split\n",
        "import copy\n",
        "from sklearn.linear_model import LogisticRegression\n",
        "from sklearn.tree import DecisionTreeClassifier\n",
        "from sklearn.utils import check_random_state\n",
        "from sklearn.svm import SVC\n",
        "from sklearn.metrics import accuracy_score\n",
        "from sklearn.metrics import precision_score"
      ],
      "id": "d026f8d4",
      "execution_count": 3,
      "outputs": []
    },
    {
      "cell_type": "markdown",
      "metadata": {
        "id": "3ILe6hVoxSEj"
      },
      "source": [
        "Подгрузим наш датасет \"champagne.csv\""
      ],
      "id": "3ILe6hVoxSEj"
    },
    {
      "cell_type": "code",
      "metadata": {
        "colab": {
          "base_uri": "https://localhost:8080/",
          "height": 216
        },
        "id": "2f2bff6a",
        "outputId": "294bfb20-91ec-412e-9bc4-9c728818104b"
      },
      "source": [
        "data = pd.read_csv('/content/champagne.csv')\n",
        "data.head()"
      ],
      "id": "2f2bff6a",
      "execution_count": 4,
      "outputs": [
        {
          "output_type": "execute_result",
          "data": {
            "text/html": [
              "<div>\n",
              "<style scoped>\n",
              "    .dataframe tbody tr th:only-of-type {\n",
              "        vertical-align: middle;\n",
              "    }\n",
              "\n",
              "    .dataframe tbody tr th {\n",
              "        vertical-align: top;\n",
              "    }\n",
              "\n",
              "    .dataframe thead th {\n",
              "        text-align: right;\n",
              "    }\n",
              "</style>\n",
              "<table border=\"1\" class=\"dataframe\">\n",
              "  <thead>\n",
              "    <tr style=\"text-align: right;\">\n",
              "      <th></th>\n",
              "      <th>fixed acidity</th>\n",
              "      <th>volatile acidity</th>\n",
              "      <th>citric acid</th>\n",
              "      <th>residual sugar</th>\n",
              "      <th>chlorides</th>\n",
              "      <th>free sulfur dioxide</th>\n",
              "      <th>total sulfur dioxide</th>\n",
              "      <th>density</th>\n",
              "      <th>pH</th>\n",
              "      <th>sulphates</th>\n",
              "      <th>alcohol</th>\n",
              "      <th>quality</th>\n",
              "    </tr>\n",
              "  </thead>\n",
              "  <tbody>\n",
              "    <tr>\n",
              "      <th>0</th>\n",
              "      <td>8.1</td>\n",
              "      <td>0.27</td>\n",
              "      <td>0.41</td>\n",
              "      <td>1.45</td>\n",
              "      <td>0.033</td>\n",
              "      <td>11.0</td>\n",
              "      <td>63.0</td>\n",
              "      <td>0.9908</td>\n",
              "      <td>2.99</td>\n",
              "      <td>0.56</td>\n",
              "      <td>12.0</td>\n",
              "      <td>5</td>\n",
              "    </tr>\n",
              "    <tr>\n",
              "      <th>1</th>\n",
              "      <td>8.6</td>\n",
              "      <td>0.23</td>\n",
              "      <td>0.40</td>\n",
              "      <td>4.20</td>\n",
              "      <td>0.035</td>\n",
              "      <td>17.0</td>\n",
              "      <td>109.0</td>\n",
              "      <td>0.9947</td>\n",
              "      <td>3.14</td>\n",
              "      <td>0.53</td>\n",
              "      <td>9.7</td>\n",
              "      <td>5</td>\n",
              "    </tr>\n",
              "    <tr>\n",
              "      <th>2</th>\n",
              "      <td>7.9</td>\n",
              "      <td>0.18</td>\n",
              "      <td>0.37</td>\n",
              "      <td>1.20</td>\n",
              "      <td>0.040</td>\n",
              "      <td>16.0</td>\n",
              "      <td>75.0</td>\n",
              "      <td>0.9920</td>\n",
              "      <td>3.18</td>\n",
              "      <td>0.63</td>\n",
              "      <td>10.8</td>\n",
              "      <td>5</td>\n",
              "    </tr>\n",
              "    <tr>\n",
              "      <th>3</th>\n",
              "      <td>8.3</td>\n",
              "      <td>0.42</td>\n",
              "      <td>0.62</td>\n",
              "      <td>19.25</td>\n",
              "      <td>0.040</td>\n",
              "      <td>41.0</td>\n",
              "      <td>172.0</td>\n",
              "      <td>1.0002</td>\n",
              "      <td>2.98</td>\n",
              "      <td>0.67</td>\n",
              "      <td>9.7</td>\n",
              "      <td>5</td>\n",
              "    </tr>\n",
              "    <tr>\n",
              "      <th>4</th>\n",
              "      <td>6.2</td>\n",
              "      <td>0.66</td>\n",
              "      <td>0.48</td>\n",
              "      <td>1.20</td>\n",
              "      <td>0.029</td>\n",
              "      <td>29.0</td>\n",
              "      <td>75.0</td>\n",
              "      <td>0.9892</td>\n",
              "      <td>3.33</td>\n",
              "      <td>0.39</td>\n",
              "      <td>12.8</td>\n",
              "      <td>8</td>\n",
              "    </tr>\n",
              "  </tbody>\n",
              "</table>\n",
              "</div>"
            ],
            "text/plain": [
              "   fixed acidity  volatile acidity  citric acid  ...  sulphates  alcohol  quality\n",
              "0            8.1              0.27         0.41  ...       0.56     12.0        5\n",
              "1            8.6              0.23         0.40  ...       0.53      9.7        5\n",
              "2            7.9              0.18         0.37  ...       0.63     10.8        5\n",
              "3            8.3              0.42         0.62  ...       0.67      9.7        5\n",
              "4            6.2              0.66         0.48  ...       0.39     12.8        8\n",
              "\n",
              "[5 rows x 12 columns]"
            ]
          },
          "metadata": {
            "tags": []
          },
          "execution_count": 4
        }
      ]
    },
    {
      "cell_type": "markdown",
      "metadata": {
        "id": "bc74f997"
      },
      "source": [
        "## Настройка датасета"
      ],
      "id": "bc74f997"
    },
    {
      "cell_type": "code",
      "metadata": {
        "id": "8baafab4"
      },
      "source": [
        "design_matrix, target = data.drop(columns=['quality']).to_numpy(dtype=np.float128), np.array(data['quality'], \n",
        "                                                                                             dtype=np.float128)"
      ],
      "id": "8baafab4",
      "execution_count": 5,
      "outputs": []
    },
    {
      "cell_type": "markdown",
      "metadata": {
        "id": "529bb719"
      },
      "source": [
        "Разделим выходные данные ,как и в прошлой лабораторной, на два класса:\n",
        "\n",
        "Хорошее шампанское - качество более 5.\n",
        "\n",
        "Плохое шампанское - качество не более 5."
      ],
      "id": "529bb719"
    },
    {
      "cell_type": "code",
      "metadata": {
        "colab": {
          "base_uri": "https://localhost:8080/"
        },
        "id": "6d6c4a0f",
        "outputId": "3b7ec3c3-64dd-4c3a-a7be-2cf7c53c020b"
      },
      "source": [
        "print(data[data['quality'] > 5].shape[0] / data['quality'].shape[0] * 100)\n",
        "print(data[data['quality'] <= 5].shape[0] / data['quality'].shape[0] * 100)\n",
        "\n",
        "for index in range(len(target)):\n",
        "    if target[index] > 5:\n",
        "        target[index] = 1\n",
        "    else:\n",
        "        target[index] = 0"
      ],
      "id": "6d6c4a0f",
      "execution_count": 6,
      "outputs": [
        {
          "output_type": "stream",
          "text": [
            "55.62770562770562\n",
            "44.37229437229438\n"
          ],
          "name": "stdout"
        }
      ]
    },
    {
      "cell_type": "markdown",
      "metadata": {
        "id": "991a158d"
      },
      "source": [
        "Отнормируем входные признаки и разделим датасет на обучающую и тестовую выборки."
      ],
      "id": "991a158d"
    },
    {
      "cell_type": "code",
      "metadata": {
        "id": "16f4f438"
      },
      "source": [
        "cnt_signs = design_matrix.shape[1]\n",
        "max_values = np.zeros(cnt_signs)\n",
        "for i in range(cnt_signs):\n",
        "    max_in_clmn = design_matrix[:, i].max()\n",
        "    max_values[i] = max_in_clmn\n",
        "    design_matrix[:, i] /= max_in_clmn\n",
        "\n",
        "features_train, features_test, target_train, target_test = train_test_split(design_matrix, target, \n",
        "                                                                            test_size=0.2, random_state=24)"
      ],
      "id": "16f4f438",
      "execution_count": 7,
      "outputs": []
    },
    {
      "cell_type": "markdown",
      "metadata": {
        "id": "d09ccef8"
      },
      "source": [
        "## Логистическая регрессия"
      ],
      "id": "d09ccef8"
    },
    {
      "cell_type": "code",
      "metadata": {
        "id": "0uLsPmVFtkIr"
      },
      "source": [
        "class LogReg:\n",
        "    \n",
        "    def __init__(self, step=1e-1, it_count=10000):\n",
        "        self.step = step\n",
        "        self.it_count = it_count\n",
        "\n",
        "    def __add_x0(self, X):\n",
        "        intercept = np.ones((X.shape[0], 1))\n",
        "        return np.hstack((intercept, X))\n",
        "\n",
        "    def get_coeff(self, features, target):\n",
        "        cnt = 0\n",
        "        for i in range(target.shape[0]):\n",
        "            if self.predict(features[i]) == target[i]:\n",
        "                cnt += 1\n",
        "        return cnt / target.shape[0]\n",
        "    \n",
        "    def f(self, z):\n",
        "        return 1 / (1 + np.exp(-z))\n",
        "\n",
        "    def fit(self, x, y):\n",
        "        X = self.__add_x0(copy.deepcopy(x))\n",
        "        self.__weights = np.zeros(X.shape[1])\n",
        "\n",
        "        for i in range(self.it_count):\n",
        "            z = np.dot(X, self.__weights)\n",
        "            grad = np.dot(X.T, self.f(z) - y) / y.size\n",
        "            self.__weights -= self.step * grad\n",
        "\n",
        "    def predict(self, x):\n",
        "        X = self.__add_x0(np.array([copy.deepcopy(x)]))\n",
        "        return self.f(np.dot(X, self.__weights)).round()\n",
        "\n"
      ],
      "id": "0uLsPmVFtkIr",
      "execution_count": 8,
      "outputs": []
    },
    {
      "cell_type": "markdown",
      "metadata": {
        "id": "41cc064e"
      },
      "source": [
        "### Проверка точности и сравнение с реализацией sklearn"
      ],
      "id": "41cc064e"
    },
    {
      "cell_type": "code",
      "metadata": {
        "id": "90b2cb98"
      },
      "source": [
        "mlg = LogReg()\n",
        "mlg.fit(features_train, target_train)"
      ],
      "id": "90b2cb98",
      "execution_count": 9,
      "outputs": []
    },
    {
      "cell_type": "code",
      "metadata": {
        "colab": {
          "base_uri": "https://localhost:8080/"
        },
        "id": "8d069b30",
        "outputId": "857ff862-7f7b-4abe-a4d0-343beae39c63"
      },
      "source": [
        "print('Собственная реализаия: {}'\n",
        "      .format(mlg.get_coeff(features_test, target_test) * 100))"
      ],
      "id": "8d069b30",
      "execution_count": 26,
      "outputs": [
        {
          "output_type": "stream",
          "text": [
            "Собственная реализаия: 76.8918918918919\n"
          ],
          "name": "stdout"
        }
      ]
    },
    {
      "cell_type": "code",
      "metadata": {
        "colab": {
          "base_uri": "https://localhost:8080/"
        },
        "id": "e1c032f4",
        "outputId": "cae51871-4e7f-4b22-ad1f-d0eecc6591d4"
      },
      "source": [
        "sklg = LogisticRegression()\n",
        "sklg.fit(features_train, target_train)"
      ],
      "id": "e1c032f4",
      "execution_count": 11,
      "outputs": [
        {
          "output_type": "execute_result",
          "data": {
            "text/plain": [
              "LogisticRegression(C=1.0, class_weight=None, dual=False, fit_intercept=True,\n",
              "                   intercept_scaling=1, l1_ratio=None, max_iter=100,\n",
              "                   multi_class='auto', n_jobs=None, penalty='l2',\n",
              "                   random_state=None, solver='lbfgs', tol=0.0001, verbose=0,\n",
              "                   warm_start=False)"
            ]
          },
          "metadata": {
            "tags": []
          },
          "execution_count": 11
        }
      ]
    },
    {
      "cell_type": "code",
      "metadata": {
        "colab": {
          "base_uri": "https://localhost:8080/"
        },
        "id": "4be14c59",
        "outputId": "03a374f0-11d1-4a40-fa02-a21a1b4d8ad0"
      },
      "source": [
        "print('sklearn реализация: {}'\n",
        "      .format(sklg.score(features_test, target_test) * 100))"
      ],
      "id": "4be14c59",
      "execution_count": 27,
      "outputs": [
        {
          "output_type": "stream",
          "text": [
            "sklearn реализация: 77.97297297297298\n"
          ],
          "name": "stdout"
        }
      ]
    },
    {
      "cell_type": "markdown",
      "metadata": {
        "id": "1VloB8dJ0RL5"
      },
      "source": [
        "Результыты собсвенной реализации логической регресси и sklearn реализации отличаются немного, что говорит о качестенной реализации алгоритма."
      ],
      "id": "1VloB8dJ0RL5"
    },
    {
      "cell_type": "markdown",
      "metadata": {
        "id": "c7a5e149"
      },
      "source": [
        "## Дерево решений"
      ],
      "id": "c7a5e149"
    },
    {
      "cell_type": "code",
      "metadata": {
        "id": "386180bb"
      },
      "source": [
        "class des_tree:\n",
        "    def __init__(self, max_depth=10, min_samples_split=2, min_samples_leaf=1):\n",
        "        self.max_depth = max_depth\n",
        "        self.min_samples_split = min_samples_split\n",
        "        self.min_samples_leaf = min_samples_leaf\n",
        "\n",
        "    def fit(self, f, y):\n",
        "        n_samples, self.n_features_ = f.shape\n",
        "        self.min_samples_split = max(self.min_samples_split, 2 * self.min_samples_leaf)\n",
        "        f = np.hstack([f, np.array([[k] for k in y])])\n",
        "        self.root = self.__split(f)\n",
        "        self.split(self.root, 1)\n",
        "\n",
        "    def __split(self, dataset):\n",
        "        class_values = list(set(row[-1] for row in dataset))\n",
        "        b_index, b_value, b_score, b_groups = 999, 999, 999, None\n",
        "        for index in range(len(dataset[0]) - 1):\n",
        "            for row in dataset:\n",
        "                groups = self.test_split(index, row[index], dataset)\n",
        "                GINI = self.__GINI(groups, class_values)\n",
        "                if GINI < b_score:\n",
        "                    b_index, b_value, b_score, b_groups = index, row[index], GINI, groups\n",
        "        return {'index': b_index, 'value': b_value, 'groups': b_groups}\n",
        "\n",
        "    def __GINI(self, groups, classes):\n",
        "        n_instances = float(sum([len(group) for group in groups]))\n",
        "        GINI = 0.0\n",
        "        for group in groups:\n",
        "            size = float(len(group))\n",
        "            if size == 0:\n",
        "                continue\n",
        "            score = 0.0\n",
        "            for class_val in classes:\n",
        "                p = [row[-1] for row in group].count(class_val) / size\n",
        "                score += p * p\n",
        "            GINI += (1.0 - score) * (size / n_instances)\n",
        "        return GINI\n",
        "\n",
        "    def test_split(self, index, value, dataset):\n",
        "        l, r = list(), list()\n",
        "        for row in dataset:\n",
        "            if row[index] < value:\n",
        "                l.append(row)\n",
        "            else:\n",
        "                r.append(row)\n",
        "        return l, r\n",
        "\n",
        "    def __terminal(self, group):\n",
        "        outcomes = [row[-1] for row in group]\n",
        "        return max(set(outcomes), key=outcomes.count)\n",
        "\n",
        "    def split(self, node, depth):\n",
        "        l, r = node['groups']\n",
        "        del (node['groups'])\n",
        "        if not l or not r:\n",
        "            node['l'] = node['r'] = self.__terminal(l + r)\n",
        "            return\n",
        "        if depth >= self.max_depth:\n",
        "            node['l'], node['r'] = self.__terminal(l), self.__terminal(r)\n",
        "            return\n",
        "        if len(l) <= self.min_samples_leaf:\n",
        "            node['l'] = self.__terminal(l)\n",
        "        else:\n",
        "            node['l'] = self.__split(l)\n",
        "            self.split(node['l'], depth + 1)\n",
        "        if len(r) <= self.min_samples_leaf:\n",
        "            node['r'] = self.__terminal(r)\n",
        "        else:\n",
        "            node['r'] = self.__split(r)\n",
        "            self.split(node['r'], depth + 1)\n",
        "\n",
        "    def print_tree(self, node, depth=0):\n",
        "        if isinstance(node, dict):\n",
        "            print('%s[X%d < %.3f]' % ((depth * ' ', (node['index'] + 1), node['value'])))\n",
        "            self.print_tree(node['l'], depth + 1)\n",
        "            self.print_tree(node['r'], depth + 1)\n",
        "        else:\n",
        "            print('%s[%s]' % ((depth * ' ', node)))\n",
        "\n",
        "    def __predict(self, row, node=None):\n",
        "        if node is None:\n",
        "            node = self.root\n",
        "        if row[node['index']] < node['value']:\n",
        "            if isinstance(node['l'], dict):\n",
        "                return self.__predict(row, node['l'])\n",
        "            else:\n",
        "                return node['l']\n",
        "        else:\n",
        "            if isinstance(node['r'], dict):\n",
        "                return self.__predict(row, node['r'])\n",
        "            else:\n",
        "                return node['r']\n",
        "\n",
        "    def predict(self, X):\n",
        "        allres = []\n",
        "        for row in X:\n",
        "            res = self.__predict(row)\n",
        "            allres.append(res)\n",
        "        return np.array(allres)\n",
        "   "
      ],
      "id": "386180bb",
      "execution_count": 17,
      "outputs": []
    },
    {
      "cell_type": "markdown",
      "metadata": {
        "id": "7d84fe88"
      },
      "source": [
        "### Проверка точности и сравнение с реализацией sklearn"
      ],
      "id": "7d84fe88"
    },
    {
      "cell_type": "code",
      "metadata": {
        "scrolled": true,
        "colab": {
          "base_uri": "https://localhost:8080/"
        },
        "id": "ee69845b",
        "outputId": "dcab755f-1f1a-49a9-cc92-c407e16b8d3d"
      },
      "source": [
        "dt = DecisionTreeClassifier(max_depth=7)\n",
        "dt.fit(features_train, target_train)\n",
        "print('Результат sklearn : {}'\n",
        ".format(dt.score(features_test, target_test) * 100))"
      ],
      "id": "ee69845b",
      "execution_count": 28,
      "outputs": [
        {
          "output_type": "stream",
          "text": [
            "Результат sklearn : 80.27027027027027\n"
          ],
          "name": "stdout"
        }
      ]
    },
    {
      "cell_type": "code",
      "metadata": {
        "colab": {
          "base_uri": "https://localhost:8080/"
        },
        "id": "yanqFGFktkIw",
        "outputId": "458fa5ad-f641-49e2-883a-6869bacbe7b3"
      },
      "source": [
        "tree = des_tree()\n",
        "tree.fit(features_train, target_train)\n",
        "tt = tree.predict(features_test)\n",
        "print('Результат собственной реализаии: ')\n",
        "accuracy_score(tt, target_test)"
      ],
      "id": "yanqFGFktkIw",
      "execution_count": 29,
      "outputs": [
        {
          "output_type": "stream",
          "text": [
            "Результат собственной реализаии: \n"
          ],
          "name": "stdout"
        },
        {
          "output_type": "execute_result",
          "data": {
            "text/plain": [
              "0.822972972972973"
            ]
          },
          "metadata": {
            "tags": []
          },
          "execution_count": 29
        }
      ]
    },
    {
      "cell_type": "markdown",
      "metadata": {
        "id": "fgoLe3VNtkIx"
      },
      "source": [
        "## Метод опорных векторов"
      ],
      "id": "fgoLe3VNtkIx"
    },
    {
      "cell_type": "code",
      "metadata": {
        "id": "d0M3ZSdktkIx"
      },
      "source": [
        "def projection_simplex(v, z=1):\n",
        "    n_features = v.shape[0]\n",
        "    u = np.sort(v)[::-1]\n",
        "    cssv = np.cumsum(u) - z\n",
        "    ind = np.arange(n_features) + 1\n",
        "    cond = u - cssv / ind > 0\n",
        "    rho = ind[cond][-1]\n",
        "    theta = cssv[cond][-1] / float(rho)\n",
        "    w = np.maximum(v - theta, 0)\n",
        "    return w"
      ],
      "id": "d0M3ZSdktkIx",
      "execution_count": 22,
      "outputs": []
    },
    {
      "cell_type": "code",
      "metadata": {
        "id": "n_KtpbLVtkIx"
      },
      "source": [
        "class SVM:\n",
        "\n",
        "    def __init__(self, C=1, max_iter=100, eps=0.01, random_state=None, verbose=0):\n",
        "        self.C = C\n",
        "        self.max_iter = max_iter\n",
        "        self.eps = eps\n",
        "        self.random_state = random_state\n",
        "        self.verbose = verbose\n",
        "\n",
        "    def partial_gradient(self,f, t, i):\n",
        "        g = np.dot(f[i], self.coef.T) + 1\n",
        "        g[int(t[i])] -= 1\n",
        "        return g\n",
        "\n",
        "    def violation(self, g, t, i):\n",
        "        smallest = np.inf\n",
        "        for k in range(g.shape[0]):\n",
        "            if k == t[i] and self.dual_coef[k, i] >= self.C:\n",
        "                continue\n",
        "            elif k != t[i] and self.dual_coef[k, i] >= 0:\n",
        "                continue\n",
        "\n",
        "            smallest = min(smallest, g[k])\n",
        "        return g.max() - smallest\n",
        "\n",
        "    def solver(self, g, t, norms, i):\n",
        "        Ci = np.zeros(g.shape[0])\n",
        "        Ci[int(t[i])] = self.C\n",
        "        beta_hat = norms[i] * (Ci - self.dual_coef[:, i]) + g / norms[i]\n",
        "        z = self.C * norms[i]\n",
        "        beta = projection_simplex(beta_hat, z)\n",
        "        return Ci - self.dual_coef[:, i] - beta / norms[i]\n",
        "\n",
        "    def fit(self,f, t):\n",
        "        n_samples, n_features =f.shape\n",
        "        n_classes = 4\n",
        "        self.dual_coef = np.zeros((n_classes, n_samples), dtype=np.float64)\n",
        "        self.coef = np.zeros((n_classes, n_features))\n",
        "        norms = np.sqrt(np.sum(f ** 2, axis=1))\n",
        "        rs = check_random_state(self.random_state)\n",
        "        ind = np.arange(n_samples)\n",
        "        rs.shuffle(ind)\n",
        "        violation_init = None\n",
        "        for it in range(self.max_iter):\n",
        "            violation_sum = 0\n",
        "            for idx in range(n_samples):\n",
        "                i = ind[idx]\n",
        "\n",
        "                if norms[i] == 0:\n",
        "                    continue\n",
        "                g = self.partial_gradient(f, t, i)\n",
        "                v = self.violation(g, t, i)\n",
        "                violation_sum += v\n",
        "                if v < 1e-12:\n",
        "                    continue\n",
        "                delta = self.solver(g, t, norms, i)\n",
        "                self.coef += (delta *f[i][:, np.newaxis]).T\n",
        "                self.dual_coef[:, i] += delta\n",
        "            if it == 0:\n",
        "                violation_init = violation_sum\n",
        "            vratio = violation_sum / violation_init\n",
        "            if self.verbose >= 1:\n",
        "                print(\"iter\", it + 1, \"violation\", vratio)\n",
        "            if vratio < self.eps:\n",
        "                if self.verbose >= 1:\n",
        "                    print(\"Converged\")\n",
        "                break\n",
        "        return self\n",
        "\n",
        "    def predict(self,f):\n",
        "        decision = np.dot(f, self.coef.T)\n",
        "        pred = decision.argmax(axis=0)\n",
        "        return pred\n",
        "\n",
        "    def get_coeff(self, features, target):\n",
        "        cnt = 0\n",
        "        for i in range(target.shape[0]):\n",
        "            if self.predict(features[i]) == target[i]:\n",
        "                cnt += 1\n",
        "        return cnt / target.shape[0]"
      ],
      "id": "n_KtpbLVtkIx",
      "execution_count": 23,
      "outputs": []
    },
    {
      "cell_type": "code",
      "metadata": {
        "colab": {
          "base_uri": "https://localhost:8080/"
        },
        "id": "h2eStBDJtkIy",
        "outputId": "b9fc0cdf-ce77-4738-8505-6159ce7337ce"
      },
      "source": [
        "svm = SVM()\n",
        "svm.fit(features_train, target_train)\n",
        "print('Собственная реализация: {}'\n",
        "      .format(svm.get_coeff(features_test, target_test) * 100))"
      ],
      "id": "h2eStBDJtkIy",
      "execution_count": 30,
      "outputs": [
        {
          "output_type": "stream",
          "text": [
            "Собственная реализация: 76.21621621621621\n"
          ],
          "name": "stdout"
        }
      ]
    },
    {
      "cell_type": "code",
      "metadata": {
        "colab": {
          "base_uri": "https://localhost:8080/"
        },
        "id": "TdgVYn25tkIz",
        "outputId": "c0e264df-6ecf-47e9-90c1-2ea42e3b3053"
      },
      "source": [
        "svc = SVC(decision_function_shape='ovr')\n",
        "svc.fit(features_train, target_train)\n",
        "print('Реализация sklearn: {}'\n",
        ".format(svc.score(features_test, target_test) * 100))"
      ],
      "id": "TdgVYn25tkIz",
      "execution_count": 31,
      "outputs": [
        {
          "output_type": "stream",
          "text": [
            "Реализация sklearn: 79.45945945945945\n"
          ],
          "name": "stdout"
        }
      ]
    },
    {
      "cell_type": "code",
      "metadata": {
        "id": "l2A5FwGotkIz"
      },
      "source": [
        ""
      ],
      "id": "l2A5FwGotkIz",
      "execution_count": null,
      "outputs": []
    }
  ]
}