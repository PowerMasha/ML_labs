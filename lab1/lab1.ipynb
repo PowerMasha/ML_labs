{
  "nbformat": 4,
  "nbformat_minor": 0,
  "metadata": {
    "kernelspec": {
      "display_name": "Python 3",
      "language": "python",
      "name": "python3"
    },
    "language_info": {
      "codemirror_mode": {
        "name": "ipython",
        "version": 3
      },
      "file_extension": ".py",
      "mimetype": "text/x-python",
      "name": "python",
      "nbconvert_exporter": "python",
      "pygments_lexer": "ipython3",
      "version": "3.8.5"
    },
    "colab": {
      "name": "lab1.ipynb",
      "provenance": [],
      "collapsed_sections": []
    }
  },
  "cells": [
    {
      "cell_type": "markdown",
      "metadata": {
        "id": "JhlNSwTK41Mt"
      },
      "source": [
        "# Машинное обучение. Лабораторная работа №1.\n",
        "\n",
        "Выполнила: *Алексеева Мария Алексеевна*\n",
        "Группа: *М8О-308Б-18.*\n",
        "Вариант: 2"
      ]
    },
    {
      "cell_type": "code",
      "metadata": {
        "id": "UbQBuSfWXvdj"
      },
      "source": [
        "import matplotlib.pyplot as plt\n",
        "import numpy as np\n",
        "import pandas as pd\n",
        "from sklearn.model_selection import train_test_split\n",
        "import pprint\n",
        "from sklearn.neighbors import KNeighborsClassifier\n",
        "from sklearn import naive_bayes"
      ],
      "execution_count": 21,
      "outputs": []
    },
    {
      "cell_type": "code",
      "metadata": {
        "colab": {
          "base_uri": "https://localhost:8080/",
          "height": 653
        },
        "id": "oEfR4-3sXvdo",
        "outputId": "eaae9ecf-c96d-4069-9fdb-6a52d33802b9"
      },
      "source": [
        "data = pd.read_csv(\"/content/sample_data/champagne.csv\", encoding=\"UTF-8\")\n",
        "data.head(20)"
      ],
      "execution_count": 22,
      "outputs": [
        {
          "output_type": "execute_result",
          "data": {
            "text/html": [
              "<div>\n",
              "<style scoped>\n",
              "    .dataframe tbody tr th:only-of-type {\n",
              "        vertical-align: middle;\n",
              "    }\n",
              "\n",
              "    .dataframe tbody tr th {\n",
              "        vertical-align: top;\n",
              "    }\n",
              "\n",
              "    .dataframe thead th {\n",
              "        text-align: right;\n",
              "    }\n",
              "</style>\n",
              "<table border=\"1\" class=\"dataframe\">\n",
              "  <thead>\n",
              "    <tr style=\"text-align: right;\">\n",
              "      <th></th>\n",
              "      <th>fixed acidity</th>\n",
              "      <th>volatile acidity</th>\n",
              "      <th>citric acid</th>\n",
              "      <th>residual sugar</th>\n",
              "      <th>chlorides</th>\n",
              "      <th>free sulfur dioxide</th>\n",
              "      <th>total sulfur dioxide</th>\n",
              "      <th>density</th>\n",
              "      <th>pH</th>\n",
              "      <th>sulphates</th>\n",
              "      <th>alcohol</th>\n",
              "      <th>quality</th>\n",
              "    </tr>\n",
              "  </thead>\n",
              "  <tbody>\n",
              "    <tr>\n",
              "      <th>0</th>\n",
              "      <td>8.1</td>\n",
              "      <td>0.27</td>\n",
              "      <td>0.41</td>\n",
              "      <td>1.45</td>\n",
              "      <td>0.033</td>\n",
              "      <td>11.0</td>\n",
              "      <td>63.0</td>\n",
              "      <td>0.9908</td>\n",
              "      <td>2.99</td>\n",
              "      <td>0.56</td>\n",
              "      <td>12.0</td>\n",
              "      <td>5</td>\n",
              "    </tr>\n",
              "    <tr>\n",
              "      <th>1</th>\n",
              "      <td>8.6</td>\n",
              "      <td>0.23</td>\n",
              "      <td>0.40</td>\n",
              "      <td>4.20</td>\n",
              "      <td>0.035</td>\n",
              "      <td>17.0</td>\n",
              "      <td>109.0</td>\n",
              "      <td>0.9947</td>\n",
              "      <td>3.14</td>\n",
              "      <td>0.53</td>\n",
              "      <td>9.7</td>\n",
              "      <td>5</td>\n",
              "    </tr>\n",
              "    <tr>\n",
              "      <th>2</th>\n",
              "      <td>7.9</td>\n",
              "      <td>0.18</td>\n",
              "      <td>0.37</td>\n",
              "      <td>1.20</td>\n",
              "      <td>0.040</td>\n",
              "      <td>16.0</td>\n",
              "      <td>75.0</td>\n",
              "      <td>0.9920</td>\n",
              "      <td>3.18</td>\n",
              "      <td>0.63</td>\n",
              "      <td>10.8</td>\n",
              "      <td>5</td>\n",
              "    </tr>\n",
              "    <tr>\n",
              "      <th>3</th>\n",
              "      <td>8.3</td>\n",
              "      <td>0.42</td>\n",
              "      <td>0.62</td>\n",
              "      <td>19.25</td>\n",
              "      <td>0.040</td>\n",
              "      <td>41.0</td>\n",
              "      <td>172.0</td>\n",
              "      <td>1.0002</td>\n",
              "      <td>2.98</td>\n",
              "      <td>0.67</td>\n",
              "      <td>9.7</td>\n",
              "      <td>5</td>\n",
              "    </tr>\n",
              "    <tr>\n",
              "      <th>4</th>\n",
              "      <td>6.2</td>\n",
              "      <td>0.66</td>\n",
              "      <td>0.48</td>\n",
              "      <td>1.20</td>\n",
              "      <td>0.029</td>\n",
              "      <td>29.0</td>\n",
              "      <td>75.0</td>\n",
              "      <td>0.9892</td>\n",
              "      <td>3.33</td>\n",
              "      <td>0.39</td>\n",
              "      <td>12.8</td>\n",
              "      <td>8</td>\n",
              "    </tr>\n",
              "    <tr>\n",
              "      <th>5</th>\n",
              "      <td>6.5</td>\n",
              "      <td>0.31</td>\n",
              "      <td>0.14</td>\n",
              "      <td>7.50</td>\n",
              "      <td>0.044</td>\n",
              "      <td>34.0</td>\n",
              "      <td>133.0</td>\n",
              "      <td>0.9955</td>\n",
              "      <td>3.22</td>\n",
              "      <td>0.50</td>\n",
              "      <td>9.5</td>\n",
              "      <td>5</td>\n",
              "    </tr>\n",
              "    <tr>\n",
              "      <th>6</th>\n",
              "      <td>6.2</td>\n",
              "      <td>0.66</td>\n",
              "      <td>0.48</td>\n",
              "      <td>1.20</td>\n",
              "      <td>0.029</td>\n",
              "      <td>29.0</td>\n",
              "      <td>75.0</td>\n",
              "      <td>0.9892</td>\n",
              "      <td>3.33</td>\n",
              "      <td>0.39</td>\n",
              "      <td>12.8</td>\n",
              "      <td>8</td>\n",
              "    </tr>\n",
              "    <tr>\n",
              "      <th>7</th>\n",
              "      <td>6.8</td>\n",
              "      <td>0.26</td>\n",
              "      <td>0.42</td>\n",
              "      <td>1.70</td>\n",
              "      <td>0.049</td>\n",
              "      <td>41.0</td>\n",
              "      <td>122.0</td>\n",
              "      <td>0.9930</td>\n",
              "      <td>3.47</td>\n",
              "      <td>0.48</td>\n",
              "      <td>10.5</td>\n",
              "      <td>8</td>\n",
              "    </tr>\n",
              "    <tr>\n",
              "      <th>8</th>\n",
              "      <td>7.6</td>\n",
              "      <td>0.67</td>\n",
              "      <td>0.14</td>\n",
              "      <td>1.50</td>\n",
              "      <td>0.074</td>\n",
              "      <td>25.0</td>\n",
              "      <td>168.0</td>\n",
              "      <td>0.9937</td>\n",
              "      <td>3.05</td>\n",
              "      <td>0.51</td>\n",
              "      <td>9.3</td>\n",
              "      <td>5</td>\n",
              "    </tr>\n",
              "    <tr>\n",
              "      <th>9</th>\n",
              "      <td>5.8</td>\n",
              "      <td>0.27</td>\n",
              "      <td>0.20</td>\n",
              "      <td>14.95</td>\n",
              "      <td>0.044</td>\n",
              "      <td>22.0</td>\n",
              "      <td>179.0</td>\n",
              "      <td>0.9962</td>\n",
              "      <td>3.37</td>\n",
              "      <td>0.37</td>\n",
              "      <td>10.2</td>\n",
              "      <td>5</td>\n",
              "    </tr>\n",
              "    <tr>\n",
              "      <th>10</th>\n",
              "      <td>7.3</td>\n",
              "      <td>0.28</td>\n",
              "      <td>0.43</td>\n",
              "      <td>1.70</td>\n",
              "      <td>0.080</td>\n",
              "      <td>21.0</td>\n",
              "      <td>123.0</td>\n",
              "      <td>0.9905</td>\n",
              "      <td>3.19</td>\n",
              "      <td>0.42</td>\n",
              "      <td>12.8</td>\n",
              "      <td>5</td>\n",
              "    </tr>\n",
              "    <tr>\n",
              "      <th>11</th>\n",
              "      <td>6.5</td>\n",
              "      <td>0.39</td>\n",
              "      <td>0.23</td>\n",
              "      <td>5.40</td>\n",
              "      <td>0.051</td>\n",
              "      <td>25.0</td>\n",
              "      <td>149.0</td>\n",
              "      <td>0.9934</td>\n",
              "      <td>3.24</td>\n",
              "      <td>0.35</td>\n",
              "      <td>10.0</td>\n",
              "      <td>5</td>\n",
              "    </tr>\n",
              "    <tr>\n",
              "      <th>12</th>\n",
              "      <td>7.3</td>\n",
              "      <td>0.24</td>\n",
              "      <td>0.39</td>\n",
              "      <td>17.95</td>\n",
              "      <td>0.057</td>\n",
              "      <td>45.0</td>\n",
              "      <td>149.0</td>\n",
              "      <td>0.9999</td>\n",
              "      <td>3.21</td>\n",
              "      <td>0.36</td>\n",
              "      <td>8.6</td>\n",
              "      <td>5</td>\n",
              "    </tr>\n",
              "    <tr>\n",
              "      <th>13</th>\n",
              "      <td>7.3</td>\n",
              "      <td>0.24</td>\n",
              "      <td>0.39</td>\n",
              "      <td>17.95</td>\n",
              "      <td>0.057</td>\n",
              "      <td>45.0</td>\n",
              "      <td>149.0</td>\n",
              "      <td>0.9999</td>\n",
              "      <td>3.21</td>\n",
              "      <td>0.36</td>\n",
              "      <td>8.6</td>\n",
              "      <td>5</td>\n",
              "    </tr>\n",
              "    <tr>\n",
              "      <th>14</th>\n",
              "      <td>6.2</td>\n",
              "      <td>0.45</td>\n",
              "      <td>0.26</td>\n",
              "      <td>4.40</td>\n",
              "      <td>0.063</td>\n",
              "      <td>63.0</td>\n",
              "      <td>206.0</td>\n",
              "      <td>0.9940</td>\n",
              "      <td>3.27</td>\n",
              "      <td>0.52</td>\n",
              "      <td>9.8</td>\n",
              "      <td>4</td>\n",
              "    </tr>\n",
              "    <tr>\n",
              "      <th>15</th>\n",
              "      <td>6.2</td>\n",
              "      <td>0.46</td>\n",
              "      <td>0.25</td>\n",
              "      <td>4.40</td>\n",
              "      <td>0.066</td>\n",
              "      <td>62.0</td>\n",
              "      <td>207.0</td>\n",
              "      <td>0.9939</td>\n",
              "      <td>3.25</td>\n",
              "      <td>0.52</td>\n",
              "      <td>9.8</td>\n",
              "      <td>5</td>\n",
              "    </tr>\n",
              "    <tr>\n",
              "      <th>16</th>\n",
              "      <td>6.9</td>\n",
              "      <td>0.19</td>\n",
              "      <td>0.35</td>\n",
              "      <td>5.00</td>\n",
              "      <td>0.067</td>\n",
              "      <td>32.0</td>\n",
              "      <td>150.0</td>\n",
              "      <td>0.9950</td>\n",
              "      <td>3.36</td>\n",
              "      <td>0.48</td>\n",
              "      <td>9.8</td>\n",
              "      <td>5</td>\n",
              "    </tr>\n",
              "    <tr>\n",
              "      <th>17</th>\n",
              "      <td>7.0</td>\n",
              "      <td>0.47</td>\n",
              "      <td>0.07</td>\n",
              "      <td>1.10</td>\n",
              "      <td>0.035</td>\n",
              "      <td>17.0</td>\n",
              "      <td>151.0</td>\n",
              "      <td>0.9910</td>\n",
              "      <td>3.02</td>\n",
              "      <td>0.34</td>\n",
              "      <td>10.5</td>\n",
              "      <td>5</td>\n",
              "    </tr>\n",
              "    <tr>\n",
              "      <th>18</th>\n",
              "      <td>6.2</td>\n",
              "      <td>0.35</td>\n",
              "      <td>0.03</td>\n",
              "      <td>1.20</td>\n",
              "      <td>0.064</td>\n",
              "      <td>29.0</td>\n",
              "      <td>120.0</td>\n",
              "      <td>0.9934</td>\n",
              "      <td>3.22</td>\n",
              "      <td>0.54</td>\n",
              "      <td>9.1</td>\n",
              "      <td>5</td>\n",
              "    </tr>\n",
              "    <tr>\n",
              "      <th>19</th>\n",
              "      <td>6.7</td>\n",
              "      <td>0.25</td>\n",
              "      <td>0.13</td>\n",
              "      <td>1.20</td>\n",
              "      <td>0.041</td>\n",
              "      <td>81.0</td>\n",
              "      <td>174.0</td>\n",
              "      <td>0.9920</td>\n",
              "      <td>3.14</td>\n",
              "      <td>0.42</td>\n",
              "      <td>9.8</td>\n",
              "      <td>5</td>\n",
              "    </tr>\n",
              "  </tbody>\n",
              "</table>\n",
              "</div>"
            ],
            "text/plain": [
              "    fixed acidity  volatile acidity  citric acid  ...  sulphates  alcohol  quality\n",
              "0             8.1              0.27         0.41  ...       0.56     12.0        5\n",
              "1             8.6              0.23         0.40  ...       0.53      9.7        5\n",
              "2             7.9              0.18         0.37  ...       0.63     10.8        5\n",
              "3             8.3              0.42         0.62  ...       0.67      9.7        5\n",
              "4             6.2              0.66         0.48  ...       0.39     12.8        8\n",
              "5             6.5              0.31         0.14  ...       0.50      9.5        5\n",
              "6             6.2              0.66         0.48  ...       0.39     12.8        8\n",
              "7             6.8              0.26         0.42  ...       0.48     10.5        8\n",
              "8             7.6              0.67         0.14  ...       0.51      9.3        5\n",
              "9             5.8              0.27         0.20  ...       0.37     10.2        5\n",
              "10            7.3              0.28         0.43  ...       0.42     12.8        5\n",
              "11            6.5              0.39         0.23  ...       0.35     10.0        5\n",
              "12            7.3              0.24         0.39  ...       0.36      8.6        5\n",
              "13            7.3              0.24         0.39  ...       0.36      8.6        5\n",
              "14            6.2              0.45         0.26  ...       0.52      9.8        4\n",
              "15            6.2              0.46         0.25  ...       0.52      9.8        5\n",
              "16            6.9              0.19         0.35  ...       0.48      9.8        5\n",
              "17            7.0              0.47         0.07  ...       0.34     10.5        5\n",
              "18            6.2              0.35         0.03  ...       0.54      9.1        5\n",
              "19            6.7              0.25         0.13  ...       0.42      9.8        5\n",
              "\n",
              "[20 rows x 12 columns]"
            ]
          },
          "metadata": {
            "tags": []
          },
          "execution_count": 22
        }
      ]
    },
    {
      "cell_type": "markdown",
      "metadata": {
        "id": "xu6WmNgkXvdp"
      },
      "source": [
        "Датасет содержит информацию о шампанском. Здесь ответом служит качество алкогольного напитка (от 0 до 10) (ниже 5 балолов, шампанское плохое, выше -хорошее), в качестве признаков идут столбцы с информацией:\n",
        "\n",
        "1 - fixed acidity(фиксированная кислотность)\n",
        "\n",
        "2 - volatile acidity(летучая кислотность)\n",
        "\n",
        "3 - citric acid(лимонная кислота)\n",
        "\n",
        "4 - residual sugar(остаточный сахар)\n",
        "\n",
        "5 - chlorides(хлориды)\n",
        "\n",
        "6 - free sulfur dioxide(свободный диоксид серы)\n",
        "\n",
        "7 - total sulfur dioxide(общий диоксид серы)\n",
        "\n",
        "8 - density(плотность)\n",
        "\n",
        "9 - pH\n",
        "\n",
        "10 - sulphates(сульфаты)\n",
        "\n",
        "11 - alcohol(алкоголь)                                                \n",
        "\n",
        "Все эти признаки вещественнозначные и являются входными данными. Выходными данными является качество quality."
      ]
    },
    {
      "cell_type": "code",
      "metadata": {
        "colab": {
          "base_uri": "https://localhost:8080/",
          "height": 290
        },
        "id": "XmN4enBgXvdr",
        "outputId": "bf999912-c880-4c46-82f6-a849f743a9a1"
      },
      "source": [
        "data.describe()"
      ],
      "execution_count": 23,
      "outputs": [
        {
          "output_type": "execute_result",
          "data": {
            "text/html": [
              "<div>\n",
              "<style scoped>\n",
              "    .dataframe tbody tr th:only-of-type {\n",
              "        vertical-align: middle;\n",
              "    }\n",
              "\n",
              "    .dataframe tbody tr th {\n",
              "        vertical-align: top;\n",
              "    }\n",
              "\n",
              "    .dataframe thead th {\n",
              "        text-align: right;\n",
              "    }\n",
              "</style>\n",
              "<table border=\"1\" class=\"dataframe\">\n",
              "  <thead>\n",
              "    <tr style=\"text-align: right;\">\n",
              "      <th></th>\n",
              "      <th>fixed acidity</th>\n",
              "      <th>volatile acidity</th>\n",
              "      <th>citric acid</th>\n",
              "      <th>residual sugar</th>\n",
              "      <th>chlorides</th>\n",
              "      <th>free sulfur dioxide</th>\n",
              "      <th>total sulfur dioxide</th>\n",
              "      <th>density</th>\n",
              "      <th>pH</th>\n",
              "      <th>sulphates</th>\n",
              "      <th>alcohol</th>\n",
              "      <th>quality</th>\n",
              "    </tr>\n",
              "  </thead>\n",
              "  <tbody>\n",
              "    <tr>\n",
              "      <th>count</th>\n",
              "      <td>3696.000000</td>\n",
              "      <td>3696.000000</td>\n",
              "      <td>3696.000000</td>\n",
              "      <td>3696.000000</td>\n",
              "      <td>3696.000000</td>\n",
              "      <td>3696.000000</td>\n",
              "      <td>3696.000000</td>\n",
              "      <td>3696.000000</td>\n",
              "      <td>3696.000000</td>\n",
              "      <td>3696.000000</td>\n",
              "      <td>3696.000000</td>\n",
              "      <td>3696.000000</td>\n",
              "    </tr>\n",
              "    <tr>\n",
              "      <th>mean</th>\n",
              "      <td>6.790652</td>\n",
              "      <td>0.285131</td>\n",
              "      <td>0.326591</td>\n",
              "      <td>6.528896</td>\n",
              "      <td>0.045605</td>\n",
              "      <td>35.184253</td>\n",
              "      <td>136.448187</td>\n",
              "      <td>0.993908</td>\n",
              "      <td>3.176066</td>\n",
              "      <td>0.487394</td>\n",
              "      <td>10.569042</td>\n",
              "      <td>5.783820</td>\n",
              "    </tr>\n",
              "    <tr>\n",
              "      <th>std</th>\n",
              "      <td>0.828973</td>\n",
              "      <td>0.104793</td>\n",
              "      <td>0.118135</td>\n",
              "      <td>5.098094</td>\n",
              "      <td>0.022320</td>\n",
              "      <td>17.577676</td>\n",
              "      <td>42.759170</td>\n",
              "      <td>0.003063</td>\n",
              "      <td>0.146043</td>\n",
              "      <td>0.112821</td>\n",
              "      <td>1.277919</td>\n",
              "      <td>0.978839</td>\n",
              "    </tr>\n",
              "    <tr>\n",
              "      <th>min</th>\n",
              "      <td>3.800000</td>\n",
              "      <td>0.085000</td>\n",
              "      <td>0.000000</td>\n",
              "      <td>0.600000</td>\n",
              "      <td>0.009000</td>\n",
              "      <td>2.000000</td>\n",
              "      <td>9.000000</td>\n",
              "      <td>0.987110</td>\n",
              "      <td>2.790000</td>\n",
              "      <td>0.220000</td>\n",
              "      <td>8.000000</td>\n",
              "      <td>3.000000</td>\n",
              "    </tr>\n",
              "    <tr>\n",
              "      <th>25%</th>\n",
              "      <td>6.300000</td>\n",
              "      <td>0.220000</td>\n",
              "      <td>0.260000</td>\n",
              "      <td>1.800000</td>\n",
              "      <td>0.035000</td>\n",
              "      <td>23.000000</td>\n",
              "      <td>107.000000</td>\n",
              "      <td>0.991518</td>\n",
              "      <td>3.080000</td>\n",
              "      <td>0.410000</td>\n",
              "      <td>9.400000</td>\n",
              "      <td>5.000000</td>\n",
              "    </tr>\n",
              "    <tr>\n",
              "      <th>50%</th>\n",
              "      <td>6.700000</td>\n",
              "      <td>0.270000</td>\n",
              "      <td>0.310000</td>\n",
              "      <td>5.450000</td>\n",
              "      <td>0.043000</td>\n",
              "      <td>34.000000</td>\n",
              "      <td>132.000000</td>\n",
              "      <td>0.993655</td>\n",
              "      <td>3.170000</td>\n",
              "      <td>0.470000</td>\n",
              "      <td>10.400000</td>\n",
              "      <td>6.000000</td>\n",
              "    </tr>\n",
              "    <tr>\n",
              "      <th>75%</th>\n",
              "      <td>7.300000</td>\n",
              "      <td>0.330000</td>\n",
              "      <td>0.380000</td>\n",
              "      <td>10.100000</td>\n",
              "      <td>0.050000</td>\n",
              "      <td>46.000000</td>\n",
              "      <td>166.000000</td>\n",
              "      <td>0.996040</td>\n",
              "      <td>3.260000</td>\n",
              "      <td>0.540000</td>\n",
              "      <td>11.500000</td>\n",
              "      <td>6.000000</td>\n",
              "    </tr>\n",
              "    <tr>\n",
              "      <th>max</th>\n",
              "      <td>11.800000</td>\n",
              "      <td>1.100000</td>\n",
              "      <td>1.230000</td>\n",
              "      <td>65.800000</td>\n",
              "      <td>0.346000</td>\n",
              "      <td>289.000000</td>\n",
              "      <td>440.000000</td>\n",
              "      <td>1.038980</td>\n",
              "      <td>3.820000</td>\n",
              "      <td>1.080000</td>\n",
              "      <td>14.200000</td>\n",
              "      <td>9.000000</td>\n",
              "    </tr>\n",
              "  </tbody>\n",
              "</table>\n",
              "</div>"
            ],
            "text/plain": [
              "       fixed acidity  volatile acidity  ...      alcohol      quality\n",
              "count    3696.000000       3696.000000  ...  3696.000000  3696.000000\n",
              "mean        6.790652          0.285131  ...    10.569042     5.783820\n",
              "std         0.828973          0.104793  ...     1.277919     0.978839\n",
              "min         3.800000          0.085000  ...     8.000000     3.000000\n",
              "25%         6.300000          0.220000  ...     9.400000     5.000000\n",
              "50%         6.700000          0.270000  ...    10.400000     6.000000\n",
              "75%         7.300000          0.330000  ...    11.500000     6.000000\n",
              "max        11.800000          1.100000  ...    14.200000     9.000000\n",
              "\n",
              "[8 rows x 12 columns]"
            ]
          },
          "metadata": {
            "tags": []
          },
          "execution_count": 23
        }
      ]
    },
    {
      "cell_type": "code",
      "metadata": {
        "colab": {
          "base_uri": "https://localhost:8080/",
          "height": 411
        },
        "id": "jFKa2XuaXvds",
        "outputId": "ed888ed9-bd48-4ef5-ac91-154e7e239008"
      },
      "source": [
        "data.corr()"
      ],
      "execution_count": 24,
      "outputs": [
        {
          "output_type": "execute_result",
          "data": {
            "text/html": [
              "<div>\n",
              "<style scoped>\n",
              "    .dataframe tbody tr th:only-of-type {\n",
              "        vertical-align: middle;\n",
              "    }\n",
              "\n",
              "    .dataframe tbody tr th {\n",
              "        vertical-align: top;\n",
              "    }\n",
              "\n",
              "    .dataframe thead th {\n",
              "        text-align: right;\n",
              "    }\n",
              "</style>\n",
              "<table border=\"1\" class=\"dataframe\">\n",
              "  <thead>\n",
              "    <tr style=\"text-align: right;\">\n",
              "      <th></th>\n",
              "      <th>fixed acidity</th>\n",
              "      <th>volatile acidity</th>\n",
              "      <th>citric acid</th>\n",
              "      <th>residual sugar</th>\n",
              "      <th>chlorides</th>\n",
              "      <th>free sulfur dioxide</th>\n",
              "      <th>total sulfur dioxide</th>\n",
              "      <th>density</th>\n",
              "      <th>pH</th>\n",
              "      <th>sulphates</th>\n",
              "      <th>alcohol</th>\n",
              "      <th>quality</th>\n",
              "    </tr>\n",
              "  </thead>\n",
              "  <tbody>\n",
              "    <tr>\n",
              "      <th>fixed acidity</th>\n",
              "      <td>1.000000</td>\n",
              "      <td>0.016517</td>\n",
              "      <td>0.276569</td>\n",
              "      <td>0.083568</td>\n",
              "      <td>0.035238</td>\n",
              "      <td>-0.076566</td>\n",
              "      <td>0.084031</td>\n",
              "      <td>0.264131</td>\n",
              "      <td>-0.440084</td>\n",
              "      <td>-0.019805</td>\n",
              "      <td>-0.137247</td>\n",
              "      <td>-0.154731</td>\n",
              "    </tr>\n",
              "    <tr>\n",
              "      <th>volatile acidity</th>\n",
              "      <td>0.016517</td>\n",
              "      <td>1.000000</td>\n",
              "      <td>-0.129509</td>\n",
              "      <td>0.039265</td>\n",
              "      <td>0.090719</td>\n",
              "      <td>-0.096342</td>\n",
              "      <td>0.101160</td>\n",
              "      <td>0.036078</td>\n",
              "      <td>0.016984</td>\n",
              "      <td>-0.016839</td>\n",
              "      <td>0.061980</td>\n",
              "      <td>-0.193831</td>\n",
              "    </tr>\n",
              "    <tr>\n",
              "      <th>citric acid</th>\n",
              "      <td>0.276569</td>\n",
              "      <td>-0.129509</td>\n",
              "      <td>1.000000</td>\n",
              "      <td>0.109221</td>\n",
              "      <td>0.109270</td>\n",
              "      <td>0.101365</td>\n",
              "      <td>0.135739</td>\n",
              "      <td>0.159049</td>\n",
              "      <td>-0.185599</td>\n",
              "      <td>0.077983</td>\n",
              "      <td>-0.090914</td>\n",
              "      <td>-0.027743</td>\n",
              "    </tr>\n",
              "    <tr>\n",
              "      <th>residual sugar</th>\n",
              "      <td>0.083568</td>\n",
              "      <td>0.039265</td>\n",
              "      <td>0.109221</td>\n",
              "      <td>1.000000</td>\n",
              "      <td>0.107641</td>\n",
              "      <td>0.271873</td>\n",
              "      <td>0.391648</td>\n",
              "      <td>0.838399</td>\n",
              "      <td>-0.189790</td>\n",
              "      <td>-0.009646</td>\n",
              "      <td>-0.452785</td>\n",
              "      <td>-0.087788</td>\n",
              "    </tr>\n",
              "    <tr>\n",
              "      <th>chlorides</th>\n",
              "      <td>0.035238</td>\n",
              "      <td>0.090719</td>\n",
              "      <td>0.109270</td>\n",
              "      <td>0.107641</td>\n",
              "      <td>1.000000</td>\n",
              "      <td>0.096942</td>\n",
              "      <td>0.222872</td>\n",
              "      <td>0.278272</td>\n",
              "      <td>-0.100130</td>\n",
              "      <td>0.031703</td>\n",
              "      <td>-0.370540</td>\n",
              "      <td>-0.234349</td>\n",
              "    </tr>\n",
              "    <tr>\n",
              "      <th>free sulfur dioxide</th>\n",
              "      <td>-0.076566</td>\n",
              "      <td>-0.096342</td>\n",
              "      <td>0.101365</td>\n",
              "      <td>0.271873</td>\n",
              "      <td>0.096942</td>\n",
              "      <td>1.000000</td>\n",
              "      <td>0.611174</td>\n",
              "      <td>0.261784</td>\n",
              "      <td>0.010845</td>\n",
              "      <td>0.069869</td>\n",
              "      <td>-0.228568</td>\n",
              "      <td>0.015237</td>\n",
              "    </tr>\n",
              "    <tr>\n",
              "      <th>total sulfur dioxide</th>\n",
              "      <td>0.084031</td>\n",
              "      <td>0.101160</td>\n",
              "      <td>0.135739</td>\n",
              "      <td>0.391648</td>\n",
              "      <td>0.222872</td>\n",
              "      <td>0.611174</td>\n",
              "      <td>1.000000</td>\n",
              "      <td>0.525935</td>\n",
              "      <td>0.016396</td>\n",
              "      <td>0.135587</td>\n",
              "      <td>-0.453177</td>\n",
              "      <td>-0.203295</td>\n",
              "    </tr>\n",
              "    <tr>\n",
              "      <th>density</th>\n",
              "      <td>0.264131</td>\n",
              "      <td>0.036078</td>\n",
              "      <td>0.159049</td>\n",
              "      <td>0.838399</td>\n",
              "      <td>0.278272</td>\n",
              "      <td>0.261784</td>\n",
              "      <td>0.525935</td>\n",
              "      <td>1.000000</td>\n",
              "      <td>-0.110473</td>\n",
              "      <td>0.072342</td>\n",
              "      <td>-0.787217</td>\n",
              "      <td>-0.348578</td>\n",
              "    </tr>\n",
              "    <tr>\n",
              "      <th>pH</th>\n",
              "      <td>-0.440084</td>\n",
              "      <td>0.016984</td>\n",
              "      <td>-0.185599</td>\n",
              "      <td>-0.189790</td>\n",
              "      <td>-0.100130</td>\n",
              "      <td>0.010845</td>\n",
              "      <td>0.016396</td>\n",
              "      <td>-0.110473</td>\n",
              "      <td>1.000000</td>\n",
              "      <td>0.129067</td>\n",
              "      <td>0.142834</td>\n",
              "      <td>0.074775</td>\n",
              "    </tr>\n",
              "    <tr>\n",
              "      <th>sulphates</th>\n",
              "      <td>-0.019805</td>\n",
              "      <td>-0.016839</td>\n",
              "      <td>0.077983</td>\n",
              "      <td>-0.009646</td>\n",
              "      <td>0.031703</td>\n",
              "      <td>0.069869</td>\n",
              "      <td>0.135587</td>\n",
              "      <td>0.072342</td>\n",
              "      <td>0.129067</td>\n",
              "      <td>1.000000</td>\n",
              "      <td>-0.006561</td>\n",
              "      <td>0.046583</td>\n",
              "    </tr>\n",
              "    <tr>\n",
              "      <th>alcohol</th>\n",
              "      <td>-0.137247</td>\n",
              "      <td>0.061980</td>\n",
              "      <td>-0.090914</td>\n",
              "      <td>-0.452785</td>\n",
              "      <td>-0.370540</td>\n",
              "      <td>-0.228568</td>\n",
              "      <td>-0.453177</td>\n",
              "      <td>-0.787217</td>\n",
              "      <td>0.142834</td>\n",
              "      <td>-0.006561</td>\n",
              "      <td>1.000000</td>\n",
              "      <td>0.496619</td>\n",
              "    </tr>\n",
              "    <tr>\n",
              "      <th>quality</th>\n",
              "      <td>-0.154731</td>\n",
              "      <td>-0.193831</td>\n",
              "      <td>-0.027743</td>\n",
              "      <td>-0.087788</td>\n",
              "      <td>-0.234349</td>\n",
              "      <td>0.015237</td>\n",
              "      <td>-0.203295</td>\n",
              "      <td>-0.348578</td>\n",
              "      <td>0.074775</td>\n",
              "      <td>0.046583</td>\n",
              "      <td>0.496619</td>\n",
              "      <td>1.000000</td>\n",
              "    </tr>\n",
              "  </tbody>\n",
              "</table>\n",
              "</div>"
            ],
            "text/plain": [
              "                      fixed acidity  volatile acidity  ...   alcohol   quality\n",
              "fixed acidity              1.000000          0.016517  ... -0.137247 -0.154731\n",
              "volatile acidity           0.016517          1.000000  ...  0.061980 -0.193831\n",
              "citric acid                0.276569         -0.129509  ... -0.090914 -0.027743\n",
              "residual sugar             0.083568          0.039265  ... -0.452785 -0.087788\n",
              "chlorides                  0.035238          0.090719  ... -0.370540 -0.234349\n",
              "free sulfur dioxide       -0.076566         -0.096342  ... -0.228568  0.015237\n",
              "total sulfur dioxide       0.084031          0.101160  ... -0.453177 -0.203295\n",
              "density                    0.264131          0.036078  ... -0.787217 -0.348578\n",
              "pH                        -0.440084          0.016984  ...  0.142834  0.074775\n",
              "sulphates                 -0.019805         -0.016839  ... -0.006561  0.046583\n",
              "alcohol                   -0.137247          0.061980  ...  1.000000  0.496619\n",
              "quality                   -0.154731         -0.193831  ...  0.496619  1.000000\n",
              "\n",
              "[12 rows x 12 columns]"
            ]
          },
          "metadata": {
            "tags": []
          },
          "execution_count": 24
        }
      ]
    },
    {
      "cell_type": "code",
      "metadata": {
        "colab": {
          "base_uri": "https://localhost:8080/",
          "height": 1000
        },
        "id": "jmkuNqPjXvds",
        "outputId": "088e9ccc-37bd-477e-d216-d0e24245f0e3"
      },
      "source": [
        "data.hist(figsize=(20, 15))"
      ],
      "execution_count": 25,
      "outputs": [
        {
          "output_type": "execute_result",
          "data": {
            "text/plain": [
              "array([[<matplotlib.axes._subplots.AxesSubplot object at 0x7fc8437f1e10>,\n",
              "        <matplotlib.axes._subplots.AxesSubplot object at 0x7fc84278e990>,\n",
              "        <matplotlib.axes._subplots.AxesSubplot object at 0x7fc842743050>],\n",
              "       [<matplotlib.axes._subplots.AxesSubplot object at 0x7fc8426f86d0>,\n",
              "        <matplotlib.axes._subplots.AxesSubplot object at 0x7fc842732510>,\n",
              "        <matplotlib.axes._subplots.AxesSubplot object at 0x7fc8426eaa90>],\n",
              "       [<matplotlib.axes._subplots.AxesSubplot object at 0x7fc8426a9050>,\n",
              "        <matplotlib.axes._subplots.AxesSubplot object at 0x7fc8426605d0>,\n",
              "        <matplotlib.axes._subplots.AxesSubplot object at 0x7fc842615b90>],\n",
              "       [<matplotlib.axes._subplots.AxesSubplot object at 0x7fc8425d7150>,\n",
              "        <matplotlib.axes._subplots.AxesSubplot object at 0x7fc84258b690>,\n",
              "        <matplotlib.axes._subplots.AxesSubplot object at 0x7fc842541c10>]],\n",
              "      dtype=object)"
            ]
          },
          "metadata": {
            "tags": []
          },
          "execution_count": 25
        },
        {
          "output_type": "display_data",
          "data": {
            "image/png": "[encoded data removed]",
            "text/plain": [
              "<Figure size 1440x1080 with 12 Axes>"
            ]
          },
          "metadata": {
            "tags": [],
            "needs_background": "light"
          }
        }
      ]
    },
    {
      "cell_type": "code",
      "metadata": {
        "id": "kZxT1HqqXvdt"
      },
      "source": [
        "design_matrix, target = data.drop(columns=['quality']).to_numpy(), np.array(data['quality'])"
      ],
      "execution_count": 26,
      "outputs": []
    },
    {
      "cell_type": "code",
      "metadata": {
        "scrolled": false,
        "colab": {
          "base_uri": "https://localhost:8080/"
        },
        "id": "C-tJtwRlXvdu",
        "outputId": "8232a1d6-9faf-4538-a74b-a5023e754912"
      },
      "source": [
        "design_matrix"
      ],
      "execution_count": 27,
      "outputs": [
        {
          "output_type": "execute_result",
          "data": {
            "text/plain": [
              "array([[ 8.1 ,  0.27,  0.41, ...,  2.99,  0.56, 12.  ],\n",
              "       [ 8.6 ,  0.23,  0.4 , ...,  3.14,  0.53,  9.7 ],\n",
              "       [ 7.9 ,  0.18,  0.37, ...,  3.18,  0.63, 10.8 ],\n",
              "       ...,\n",
              "       [ 6.5 ,  0.24,  0.19, ...,  2.99,  0.46,  9.4 ],\n",
              "       [ 5.5 ,  0.29,  0.3 , ...,  3.34,  0.38, 12.8 ],\n",
              "       [ 6.  ,  0.21,  0.38, ...,  3.26,  0.32, 11.8 ]])"
            ]
          },
          "metadata": {
            "tags": []
          },
          "execution_count": 27
        }
      ]
    },
    {
      "cell_type": "code",
      "metadata": {
        "colab": {
          "base_uri": "https://localhost:8080/"
        },
        "id": "HnS0J7uTXvdu",
        "outputId": "5abd3e44-cd5a-4bde-d578-9efd7eef65fd"
      },
      "source": [
        "target"
      ],
      "execution_count": 28,
      "outputs": [
        {
          "output_type": "execute_result",
          "data": {
            "text/plain": [
              "array([5, 5, 5, ..., 6, 7, 6])"
            ]
          },
          "metadata": {
            "tags": []
          },
          "execution_count": 28
        }
      ]
    },
    {
      "cell_type": "code",
      "metadata": {
        "id": "TAfiPXeUXvdv"
      },
      "source": [
        "cnt_sign = design_matrix.shape[1]\n",
        "max_values = np.zeros(cnt_sign)\n",
        "for i in range(cnt_sign):\n",
        "    tmp_max = design_matrix[:, i].max()\n",
        "    max_values[i] = tmp_max\n",
        "    design_matrix[:, i] /= tmp_max"
      ],
      "execution_count": 29,
      "outputs": []
    },
    {
      "cell_type": "code",
      "metadata": {
        "colab": {
          "base_uri": "https://localhost:8080/"
        },
        "id": "L4SfqjRYXvdw",
        "outputId": "14564fb2-bb90-4f71-ff0b-7ed9ec7189dc"
      },
      "source": [
        "print(data[data['quality'] >= 6].shape[0] / data['quality'].shape[0] * 100)\n",
        "print(data[data['quality'] < 6].shape[0] / data['quality'].shape[0] * 100)"
      ],
      "execution_count": 30,
      "outputs": [
        {
          "output_type": "stream",
          "text": [
            "55.62770562770562\n",
            "44.37229437229438\n"
          ],
          "name": "stdout"
        }
      ]
    },
    {
      "cell_type": "markdown",
      "metadata": {
        "id": "9pJivE5iXvdw"
      },
      "source": [
        "Два класса. Первый класс - качество больше либо равно 6, второй - меньше 6."
      ]
    },
    {
      "cell_type": "code",
      "metadata": {
        "colab": {
          "base_uri": "https://localhost:8080/"
        },
        "id": "DdrH9BVtXvdx",
        "outputId": "390b9285-d853-41a3-ef32-1c15598a3107"
      },
      "source": [
        "for i in range(0, len(target)):\n",
        "    if target[i] >= 6:\n",
        "        target[i] = 1\n",
        "    else:\n",
        "        target[i] = 0\n",
        "print(target)"
      ],
      "execution_count": 31,
      "outputs": [
        {
          "output_type": "stream",
          "text": [
            "[0 0 0 ... 1 1 1]\n"
          ],
          "name": "stdout"
        }
      ]
    },
    {
      "cell_type": "code",
      "metadata": {
        "colab": {
          "base_uri": "https://localhost:8080/"
        },
        "id": "0gepQfgtXvdy",
        "outputId": "2af112ad-38ed-4dab-db8e-c55c631248b1"
      },
      "source": [
        "def euclidean(v1, v2):\n",
        "    return sum([(x - y)**2 for x, y in zip(v1, v2)]) ** 0.5\n",
        "print(target)"
      ],
      "execution_count": 32,
      "outputs": [
        {
          "output_type": "stream",
          "text": [
            "[0 0 0 ... 1 1 1]\n"
          ],
          "name": "stdout"
        }
      ]
    },
    {
      "cell_type": "markdown",
      "metadata": {
        "id": "8ii3LXDcXvdy"
      },
      "source": [
        "Разобьем на обучающую и на тестовую выборки."
      ]
    },
    {
      "cell_type": "code",
      "metadata": {
        "id": "wBN_cvMAXvdz"
      },
      "source": [
        "features_train, features_test, target_train, target_test = train_test_split(design_matrix, target, test_size=0.2, random_state=24)"
      ],
      "execution_count": 33,
      "outputs": []
    },
    {
      "cell_type": "code",
      "metadata": {
        "id": "KJ0dUAtjXvdz"
      },
      "source": [
        "class KNNClassificator:\n",
        "\n",
        "    def __init__(self, design_matrix, target):\n",
        "        self.design_matrix = design_matrix\n",
        "        self.target = target\n",
        "\n",
        "    def predict(self, obj_vector, k, metric):\n",
        "        nghs = np.zeros((self.design_matrix.shape[0], 2))\n",
        "        for i in range(self.design_matrix.shape[0]):\n",
        "            nghs[i] = (metric(obj_vector, self.design_matrix[i]), self.target[i])\n",
        "        sorted_k_nghbs = sorted(nghs, key=lambda x: x[0])[:k]\n",
        "        cnt_0 = 0\n",
        "        cnt_1 = 0\n",
        "        for x, y in sorted_k_nghbs:\n",
        "            if y == 0:\n",
        "                cnt_0 += 1\n",
        "            elif y == 1:\n",
        "                cnt_1 +=1\n",
        "        return 1 if cnt_1 > cnt_0 else 0\n",
        "        \n",
        "          \n",
        "    def score(self, features, target, k, metric):\n",
        "        right_predict_number = 0\n",
        "        for i in range(features.shape[0]):\n",
        "            if self.predict(features[i], k, metric) == target[i]:\n",
        "                right_predict_number += 1\n",
        "        return right_predict_number / target.shape[0]"
      ],
      "execution_count": 34,
      "outputs": []
    },
    {
      "cell_type": "code",
      "metadata": {
        "colab": {
          "base_uri": "https://localhost:8080/"
        },
        "id": "RkWuJn7bXvd0",
        "outputId": "d88055e6-d908-4109-e9b2-b914993bf743"
      },
      "source": [
        "knn = KNNClassificator(features_train, target_train)\n",
        "print('KNN implementation accuracy on the train set: ', knn.score(features_train, target_train, 7, euclidean))\n",
        "print('KNN implementation accuracy on the test set: ', knn.score(features_test, target_test, 7, euclidean))\n"
      ],
      "execution_count": 41,
      "outputs": [
        {
          "output_type": "stream",
          "text": [
            "KNN implementation accuracy on the train set:  0.8572395128552097\n",
            "KNN implementation accuracy on the test set:  0.7972972972972973\n"
          ],
          "name": "stdout"
        }
      ]
    },
    {
      "cell_type": "code",
      "metadata": {
        "colab": {
          "base_uri": "https://localhost:8080/"
        },
        "id": "iv5mXdogXvd1",
        "outputId": "c17a2f86-8855-4268-863f-869d2e27c392"
      },
      "source": [
        "knn = KNeighborsClassifier(n_neighbors=7)\n",
        "knn.fit(features_train, target_train)\n",
        "knn.score(features_train, target_train), knn.score(features_test, target_test)\n",
        "print('sklearn implementation accuracy on the train set: {}'.format(knn.score(features_train, target_train)))\n",
        "print('sklearn implementation accuracy on the test set: {}'.format(knn.score(features_test, target_test)))\n",
        "\n"
      ],
      "execution_count": 36,
      "outputs": [
        {
          "output_type": "stream",
          "text": [
            "sklearn implementation accuracy on the train set: 0.8572395128552097\n",
            "sklearn implementation accuracy on the test set: 0.7972972972972973\n"
          ],
          "name": "stdout"
        }
      ]
    },
    {
      "cell_type": "code",
      "metadata": {
        "id": "cv87w-1uXvd1"
      },
      "source": [
        "class NormalDistribution:\n",
        "    def __init__(self, mean, std):\n",
        "        self.mean = mean\n",
        "        self.std = std\n",
        "        \n",
        "    def probability_d(self, value):\n",
        "        return 1 / (self.std * (2 * np.pi) ** 0.5 * np.exp((value - self.mean) ** 2 / (2 * self.std ** 2)))"
      ],
      "execution_count": 37,
      "outputs": []
    },
    {
      "cell_type": "code",
      "metadata": {
        "id": "LkNXg6akXvd2"
      },
      "source": [
        "class NaiveBayes:\n",
        "    def __init__(self, design_matrix, target):\n",
        "        self.label_prob = {\n",
        "            0: len(target[target == 0]) / len(target),\n",
        "            1: len(target[target == 1]) / len(target)\n",
        "        }\n",
        "        self.cond_prob = {}\n",
        "        for v in (0, 1):\n",
        "            prob = []\n",
        "            for column in range(design_matrix.shape[1]):\n",
        "                feature = design_matrix[target == v, column]\n",
        "                prob.append(NormalDistribution(feature.mean(axis=0), feature.std(axis=0)))\n",
        "            self.cond_prob[v] = prob\n",
        "    \n",
        "    def predict(self, array):\n",
        "        label_prob = {}\n",
        "        for v in {0, 1}:\n",
        "            cond_feature_prob = 0\n",
        "            for i in range(array.shape[0]):\n",
        "                cond_feature_prob += np.log(self.cond_prob[v][i].probability_d(array[i]))\n",
        "            label_prob[v] = cond_feature_prob + np.log(self.label_prob[v])\n",
        "        return 0 if label_prob[1] < label_prob[0] else 1\n",
        "    \n",
        "    def score(self, features, target):\n",
        "        rigth_predict_number = 0\n",
        "        for i in range(features.shape[0]):\n",
        "            if self.predict(features[i]) == target[i]:\n",
        "                rigth_predict_number += 1\n",
        "                \n",
        "        return rigth_predict_number / target.shape[0]"
      ],
      "execution_count": 38,
      "outputs": []
    },
    {
      "cell_type": "code",
      "metadata": {
        "colab": {
          "base_uri": "https://localhost:8080/"
        },
        "id": "p0pR0rHJXvd3",
        "outputId": "b70bfdb7-af8a-4185-c821-ba4e1e428a94"
      },
      "source": [
        "nb = NaiveBayes(features_train, target_train)\n",
        "print(nb.score(features_train, target_train))\n",
        "print(nb.score(features_test, target_test))"
      ],
      "execution_count": 39,
      "outputs": [
        {
          "output_type": "stream",
          "text": [
            "0.736468200270636\n",
            "0.75\n"
          ],
          "name": "stdout"
        }
      ]
    },
    {
      "cell_type": "code",
      "metadata": {
        "colab": {
          "base_uri": "https://localhost:8080/"
        },
        "id": "ISBKEx3XXvd4",
        "outputId": "02fb2767-439a-49c6-b014-9ccfb79d8c8d"
      },
      "source": [
        "sklearn_nb = naive_bayes.GaussianNB()\n",
        "sklearn_nb.fit(features_train, target_train)\n",
        "print('sklearn implementation accuracy on the train set: {}'.format(sklearn_nb.score(features_train, target_train)))\n",
        "print('sklearn implementation accuracy on the test set: {}'.format(sklearn_nb.score(features_test, target_test)))\n",
        "\n"
      ],
      "execution_count": 40,
      "outputs": [
        {
          "output_type": "stream",
          "text": [
            "sklearn implementation accuracy on the train set: 0.736468200270636\n",
            "sklearn implementation accuracy on the test set: 0.75\n"
          ],
          "name": "stdout"
        }
      ]
    },
    {
      "cell_type": "code",
      "metadata": {
        "id": "p0O8s41WXvd5"
      },
      "source": [
        ""
      ],
      "execution_count": 40,
      "outputs": []
    }
  ]
}